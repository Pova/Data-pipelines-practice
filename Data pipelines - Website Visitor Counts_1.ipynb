{
 "cells": [
  {
   "cell_type": "markdown",
   "id": "4c5ed0ce",
   "metadata": {},
   "source": [
    "# Data Pipelines - Website Visitor Counts"
   ]
  },
  {
   "cell_type": "markdown",
   "id": "0d4f4fa5",
   "metadata": {},
   "source": [
    "### Website Visitor Counts Exercise (Part 1) - Saving log data to database"
   ]
  },
  {
   "cell_type": "code",
   "execution_count": null,
   "id": "eb11b64e",
   "metadata": {},
   "outputs": [],
   "source": [
    "from datetime import datetime\n",
    "import sqlite3"
   ]
  },
  {
   "cell_type": "code",
   "execution_count": null,
   "id": "67de0c1d",
   "metadata": {},
   "outputs": [],
   "source": [
    "# Web traffic data log file\n",
    "file_name = \"web_traffic_logs.txt\"\n",
    "\n",
    "# Connect to the SQLite database\n",
    "conn = sqlite3.connect(\"web_traffic.db\")\n",
    "cursor = conn.cursor()"
   ]
  },
  {
   "cell_type": "code",
   "execution_count": null,
   "id": "c3a68e28",
   "metadata": {
    "scrolled": false
   },
   "outputs": [],
   "source": [
    "with open(file_name, 'r') as file:\n",
    "    for line in file:\n",
    "        line = line.strip()  # Remove leading and trailing whitespace\n",
    "        if line:  # Check if the line is not empty\n",
    "            # Parse the line as needed\n",
    "            fields = line.split(\" \")\n",
    "            record_created_at = datetime.now().strftime(\"%Y-%m-%d %H:%M:%S\")\n",
    "            ip_address = fields[0]\n",
    "            local_time = fields[3] + \" \" + fields[4]\n",
    "            request_type = fields[5].strip('\"')\n",
    "            request_address = fields[6]\n",
    "            request_status = fields[8]\n",
    "            body_bytes_sent = fields[9]\n",
    "            http_referrer = fields[10].strip('\"') #page client was on before sending current request\n",
    "            \n",
    "            # Logic to extract correct browser name (annoying to figure out!)\n",
    "            for idx in range(11,len(fields)):\n",
    "                if '/' in fields[idx] and len(fields[idx].split('/')[1].split('.'))>=3:\n",
    "                    browser = fields[idx].split('/')[0]\n",
    "                else:\n",
    "                    continue\n",
    "            \n",
    "            # Create the table if it doesn't exist\n",
    "            cursor.execute(\"CREATE TABLE IF NOT EXISTS \\\n",
    "                           web_traffic_logs (\\\n",
    "                           id INTEGER PRIMARY KEY AUTOINCREMENT,\\\n",
    "                           record_created_at DATETIME,\\\n",
    "                           ip_address TEXT,\\\n",
    "                           local_time TEXT,\\\n",
    "                           request_type TEXT,\\\n",
    "                           request_address TEXT,\\\n",
    "                           request_status INTEGER,\\\n",
    "                           body_bytes_sent INTEGER,\\\n",
    "                           http_referrer TEXT,\\\n",
    "                           browser TEXT,\\\n",
    "                           raw_log TEXT UNIQUE\\\n",
    "                           )\")\n",
    "\n",
    "            # Insert values into the table\n",
    "            cursor.execute(f\"INSERT INTO web_traffic_logs (\\\n",
    "                            record_created_at,\\\n",
    "                            ip_address,\\\n",
    "                            local_time,\\\n",
    "                            request_type,\\\n",
    "                            request_address,\\\n",
    "                            request_status,\\\n",
    "                            body_bytes_sent,\\\n",
    "                            http_referrer,\\\n",
    "                            browser,\\\n",
    "                            raw_log) VALUES (?, ?, ?, ?, ?, ?, ?, ?, ?, ?)\",\n",
    "                           (record_created_at, ip_address, local_time,\n",
    "                            request_type, request_address,\n",
    "                            request_status, body_bytes_sent, http_referrer, browser,\n",
    "                            line))"
   ]
  },
  {
   "cell_type": "code",
   "execution_count": null,
   "id": "2135edef",
   "metadata": {},
   "outputs": [],
   "source": [
    "# Commit changes and close the database connection\n",
    "conn.commit()\n",
    "conn.close()\n",
    "\n",
    "#\n",
    "file.close()"
   ]
  },
  {
   "cell_type": "code",
   "execution_count": null,
   "id": "6a04f398",
   "metadata": {},
   "outputs": [],
   "source": []
  }
 ],
 "metadata": {
  "kernelspec": {
   "display_name": "Python 3 (ipykernel)",
   "language": "python",
   "name": "python3"
  },
  "language_info": {
   "codemirror_mode": {
    "name": "ipython",
    "version": 3
   },
   "file_extension": ".py",
   "mimetype": "text/x-python",
   "name": "python",
   "nbconvert_exporter": "python",
   "pygments_lexer": "ipython3",
   "version": "3.10.9"
  }
 },
 "nbformat": 4,
 "nbformat_minor": 5
}
