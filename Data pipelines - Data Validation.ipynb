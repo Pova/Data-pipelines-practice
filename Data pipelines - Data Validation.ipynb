{
 "cells": [
  {
   "cell_type": "markdown",
   "id": "b18587a3",
   "metadata": {},
   "source": [
    "# Data Pipelines - Data Collection Exercise "
   ]
  },
  {
   "cell_type": "markdown",
   "id": "f261a15c",
   "metadata": {},
   "source": [
    "### Objective: write python programs to validate the following inputs.\n",
    "\n"
   ]
  },
  {
   "cell_type": "markdown",
   "id": "01c0cff6",
   "metadata": {},
   "source": [
    "### Type Check\n",
    "\n",
    "Write a program using a flag to validate if the input (provided by the user) is of type int.\n",
    "\n",
    "Use while, input(), .isdigit() and print the input value in the final statement."
   ]
  },
  {
   "cell_type": "code",
   "execution_count": 1,
   "id": "957a5d9e",
   "metadata": {},
   "outputs": [
    {
     "name": "stdout",
     "output_type": "stream",
     "text": [
      "Enter an integer: 4.2\n",
      "Invalid input! Please enter an integer.\n",
      "Enter an integer: nineteen\n",
      "Invalid input! Please enter an integer.\n",
      "Enter an integer: -3\n",
      "Input value: -3\n"
     ]
    }
   ],
   "source": [
    "type_flag = False  \n",
    "\n",
    "while not type_flag:\n",
    "    user_input = input(\"Enter an integer: \")\n",
    "    prefix = ''\n",
    "    \n",
    "    # This logic handles the user inputing negative integers which I noticed .isdigit was rejecting\n",
    "    if user_input[0] in ['+','-']:\n",
    "        prefix = user_input[0]\n",
    "        user_input = user_input[1:]\n",
    "\n",
    "    if user_input.isdigit():\n",
    "        input_value = int(prefix + user_input)\n",
    "        type_flag = True\n",
    "    else:\n",
    "        print(\"Invalid input! Please enter an integer.\")\n",
    "\n",
    "print(\"Input value:\", input_value)"
   ]
  },
  {
   "cell_type": "markdown",
   "id": "b36b12d8",
   "metadata": {},
   "source": [
    "### Range Check\n",
    "\n",
    "Prompt the user to enter their age as an input, and use a flag and exception to validate whether the user is a teenager.\n",
    "\n",
    "**Note** I am interpreting this as we are checking whether someone IS a teenager by raising an exception if they're not (i.e. for a student discount or something)"
   ]
  },
  {
   "cell_type": "code",
   "execution_count": 2,
   "id": "385a9a9c",
   "metadata": {},
   "outputs": [
    {
     "name": "stdout",
     "output_type": "stream",
     "text": [
      "Enter your age: 12\n",
      "Sorry! you are not a teenager... This program is only for teenagers.\n",
      "Enter your age: 20\n",
      "Sorry! you are not a teenager... This program is only for teenagers.\n",
      "Enter your age: 17\n",
      "Success! You are a teenager with age: 17\n"
     ]
    }
   ],
   "source": [
    "# Defining a custom Exception that does nothing\n",
    "class NotATeenagerError(Exception):\n",
    "    pass\n",
    "\n",
    "teenager_flag = False  \n",
    "\n",
    "while not teenager_flag:\n",
    "    try:\n",
    "        age = int(input(\"Enter your age: \"))\n",
    "        if 13 <= age <= 19:\n",
    "            teenager_flag = True\n",
    "        else:\n",
    "            raise NotATeenagerError\n",
    "    except ValueError:\n",
    "        print(\"Invalid input! Please enter a valid age.\")\n",
    "    except NotATeenagerError:\n",
    "        print(\"Sorry! You are not a teenager... This program is only for teenagers.\")\n",
    "\n",
    "print(\"Success! You are a teenager with age:\", age)"
   ]
  },
  {
   "cell_type": "markdown",
   "id": "47ad50b3",
   "metadata": {},
   "source": [
    "### Range Check"
   ]
  },
  {
   "cell_type": "markdown",
   "id": "0ad9f04e",
   "metadata": {},
   "source": [
    "Instruct the user to input a password. Ensure the length of the string is more than 5 using a flag."
   ]
  },
  {
   "cell_type": "code",
   "execution_count": 3,
   "id": "75dbc8e1",
   "metadata": {},
   "outputs": [
    {
     "name": "stdout",
     "output_type": "stream",
     "text": [
      "Enter a password: sda\n",
      "Password needs to be longer than 5 characters.\n",
      "Enter a password: sdasd\n",
      "Password needs to be longer than 5 characters.\n",
      "Enter a password: qweqwew\n",
      "Valid password entered: qweqwew\n"
     ]
    }
   ],
   "source": [
    "password_flag = False  \n",
    "\n",
    "while not password_flag:\n",
    "    password = input(\"Enter a password: \")\n",
    "    if len(password) > 5:\n",
    "        password_flag = True\n",
    "    else:\n",
    "        print(\"Password needs to be longer than 5 characters.\")\n",
    "\n",
    "print(\"Valid password entered:\", password)"
   ]
  },
  {
   "cell_type": "code",
   "execution_count": null,
   "id": "6444a803",
   "metadata": {},
   "outputs": [],
   "source": []
  }
 ],
 "metadata": {
  "kernelspec": {
   "display_name": "Python 3 (ipykernel)",
   "language": "python",
   "name": "python3"
  },
  "language_info": {
   "codemirror_mode": {
    "name": "ipython",
    "version": 3
   },
   "file_extension": ".py",
   "mimetype": "text/x-python",
   "name": "python",
   "nbconvert_exporter": "python",
   "pygments_lexer": "ipython3",
   "version": "3.10.9"
  }
 },
 "nbformat": 4,
 "nbformat_minor": 5
}
