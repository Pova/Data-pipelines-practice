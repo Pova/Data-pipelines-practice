{
 "cells": [
  {
   "cell_type": "markdown",
   "id": "83ded4d4",
   "metadata": {},
   "source": [
    "# Data Pipelines - Website Visitor Counts"
   ]
  },
  {
   "cell_type": "markdown",
   "id": "8dd4411f",
   "metadata": {},
   "source": [
    "### Website Visitor Counts Exercise (Part 2) - Querying database"
   ]
  },
  {
   "cell_type": "code",
   "execution_count": null,
   "id": "54b838df",
   "metadata": {},
   "outputs": [],
   "source": [
    "import sqlite3\n",
    "from datetime import datetime"
   ]
  },
  {
   "cell_type": "markdown",
   "id": "99d51dbc",
   "metadata": {},
   "source": [
    "### Function to fetch data from database"
   ]
  },
  {
   "cell_type": "code",
   "execution_count": null,
   "id": "5cf0f44f",
   "metadata": {},
   "outputs": [],
   "source": [
    "# Fetch rows added after a certain time\n",
    "\n",
    "def fetch_rows(start_time):\n",
    "    # Connect to the SQLite database\n",
    "    conn = sqlite3.connect(\"web_traffic.db\")\n",
    "    cursor = conn.cursor()\n",
    "    query = \"SELECT local_time, ip_address, browser FROM web_traffic_logs WHERE record_created_at > ?\"\n",
    "    cursor.execute(query, (start_time,))\n",
    "    rows = cursor.fetchall()\n",
    "    \n",
    "    return rows"
   ]
  },
  {
   "cell_type": "markdown",
   "id": "f36540cd",
   "metadata": {},
   "source": [
    "### Extract relevant fields"
   ]
  },
  {
   "cell_type": "code",
   "execution_count": null,
   "id": "f6f898ec",
   "metadata": {},
   "outputs": [],
   "source": [
    "def extract_data(rows):\n",
    "    times = []\n",
    "    ips = []\n",
    "    browsers = []\n",
    "    for row in rows:\n",
    "        times.append(datetime.strptime(row[0], '[%d/%b/%Y:%H:%M:%S %z]')) \n",
    "        ips.append(row[1])\n",
    "        browsers.append(row[2])\n",
    "        \n",
    "    return times, ips, browsers"
   ]
  },
  {
   "cell_type": "markdown",
   "id": "52d48821",
   "metadata": {},
   "source": [
    "### Counting"
   ]
  },
  {
   "cell_type": "code",
   "execution_count": null,
   "id": "c9832ee5",
   "metadata": {},
   "outputs": [],
   "source": [
    "unique_ips = {}\n",
    "browser_counts = {}\n",
    "counts = {}\n",
    "\n",
    "# Arbitrary start time\n",
    "start_time = datetime(year=2023, month=1, day=1)\n",
    "\n",
    "rows = fetch_rows(start_time)\n",
    "times, ips, browsers = extract_data(rows)\n",
    "\n",
    "if len(times) > 0:\n",
    "    # New data to analyze!\n",
    "    start_time = times[-1]\n",
    "    # Set the start time for as the last time to prevent future duplicate data\n",
    "\n",
    "for ip, time, browser in zip(ips, times, browsers):\n",
    "    unique_day = time.strftime(\"%d-%m-%Y\")\n",
    "    if unique_day not in unique_ips:\n",
    "        unique_ips[unique_day] = set() # Create empty set\n",
    "    unique_ips[unique_day].add(ip)\n",
    "    \n",
    "    # Count browsers used per day\n",
    "    if unique_day not in browser_counts:\n",
    "        browser_counts[unique_day] = {}\n",
    "    if browser not in browser_counts[unique_day]:\n",
    "        browser_counts[unique_day][browser] = 0\n",
    "    browser_counts[unique_day][browser] += 1\n",
    "    \n",
    "    for days, unique_ip_set in unique_ips.items():\n",
    "        counts[days] = len(unique_ip_set)\n",
    "        count_list = counts.items()\n",
    "        \n",
    "        # Creates a list of tuples: (day,unique_ip_count) sorted by day\n",
    "        count_list = sorted(count_list, key=lambda x: x[0])\n",
    "        \n",
    "for item in count_list:\n",
    "    print(f\"Day: {item[0]}, Unique visitors: {item[1]}\")\n",
    "    print(f\"Breakdown by browser:\")\n",
    "    for browser,count in browser_counts[item[0]].items():\n",
    "        print(f\"\\t{browser} : {count}\")"
   ]
  },
  {
   "cell_type": "code",
   "execution_count": null,
   "id": "6e9f22c9",
   "metadata": {},
   "outputs": [],
   "source": [
    "# Close the database connection\n",
    "conn.close()"
   ]
  }
 ],
 "metadata": {
  "kernelspec": {
   "display_name": "Python 3 (ipykernel)",
   "language": "python",
   "name": "python3"
  },
  "language_info": {
   "codemirror_mode": {
    "name": "ipython",
    "version": 3
   },
   "file_extension": ".py",
   "mimetype": "text/x-python",
   "name": "python",
   "nbconvert_exporter": "python",
   "pygments_lexer": "ipython3",
   "version": "3.10.9"
  }
 },
 "nbformat": 4,
 "nbformat_minor": 5
}
